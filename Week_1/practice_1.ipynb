{
 "cells": [
  {
   "cell_type": "code",
   "execution_count": 5,
   "metadata": {},
   "outputs": [
    {
     "name": "stdout",
     "output_type": "stream",
     "text": [
      "100\n",
      "the data type of variable num is <class 'int'>\n",
      "34.45\n",
      "Data type of variable fnum is <class 'float'>\n",
      "(3+4j)\n",
      "Data type of variable cnum is <class 'complex'>\n"
     ]
    }
   ],
   "source": [
    "# Digit Number\n",
    "num = 100\n",
    "print(num);\n",
    "print(\"the data type of variable num is\",type(num));\n",
    "\n",
    "# Float number\n",
    "fnum = 34.45\n",
    "print (fnum)\n",
    "print(\"Data type of variable fnum is\",type (fnum))\n",
    "\n",
    "# Complex number\n",
    "cnum= 3 + 4j\n",
    "print(cnum)\n",
    "print (\"Data type of variable cnum is\", type(cnum))\n"
   ]
  },
  {
   "cell_type": "code",
   "execution_count": 2,
   "metadata": {},
   "outputs": [
    {
     "name": "stdout",
     "output_type": "stream",
     "text": [
      "andre\n"
     ]
    }
   ],
   "source": []
  },
  {
   "cell_type": "code",
   "execution_count": null,
   "metadata": {},
   "outputs": [],
   "source": []
  }
 ],
 "metadata": {
  "kernelspec": {
   "display_name": "base",
   "language": "python",
   "name": "python3"
  },
  "language_info": {
   "codemirror_mode": {
    "name": "ipython",
    "version": 3
   },
   "file_extension": ".py",
   "mimetype": "text/x-python",
   "name": "python",
   "nbconvert_exporter": "python",
   "pygments_lexer": "ipython3",
   "version": "3.10.9"
  },
  "orig_nbformat": 4,
  "vscode": {
   "interpreter": {
    "hash": "3c06e3e46abf38078fe4dac36a0085ec2b134ebbd73dd076183d243eeca6918f"
   }
  }
 },
 "nbformat": 4,
 "nbformat_minor": 2
}
