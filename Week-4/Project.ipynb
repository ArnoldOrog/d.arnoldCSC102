{
 "cells": [
  {
   "cell_type": "code",
   "execution_count": 20,
   "metadata": {},
   "outputs": [
    {
     "name": "stdout",
     "output_type": "stream",
     "text": [
      "Name      Age  Height  Score\n",
      "Jada   17  5.5     80\n",
      "Samantha   17  5.5     80\n",
      "Samantha   17  5.5     80\n",
      "Samantha   17  5.5     80\n"
     ]
    }
   ],
   "source": [
    "#List for Girls and their respective ages, heights and scores.\n",
    "girl_names =['Samantha', 'Jada', 'Claire' ,'Elizabeth', 'Mary', 'Susan', 'Waje', 'Taibat', 'Lilian',]\n",
    "girl_ages = [ 17, 16, 17, 18, 16, 18, 17, 20, 19, 17]\n",
    "girls_height = [5.5, 6.0, 5.4, 5.9, 5.6, 5.5, 6.1, 6.0, 5.7,5.5]\n",
    "girls_score = [80, 85, 70, 60, 76, 87, 95, 50, 49]\n",
    "\n",
    "#List for Boys and their respective ages, heights and scores.\n",
    "boy_names = ['Chareles', 'Jude', 'James', 'Kelvin', 'Biodun', 'Wale', 'Kunle', 'Matthew', 'Tom', 'Kayode']\n",
    "boy_ages = [19, 16, 18, 17, 20, 19, 16, 18, 17, 19]\n",
    "boy_heights = [5.7, 5,9, 5.8, 6.1, 5.9, 5.5, 6.1, 5.4, 5.8, 5.7] \n",
    "boy_scores = [74, 87, 75, 68, 66, 78, 87, 98, 54]\n",
    "\n",
    "# for a in girl_names:\n",
    "#     for b in girl_ages:\n",
    "#         for c in girls_height:\n",
    "#             for d in girls_score:\n",
    "#                 print(girl_names(a),girl_ages(b),girls_height(c),girls_score(d))\n",
    "\n",
    "# Code to print girl stuff in tabular form\n",
    "for a in range(1):\n",
    "    print(\" Name \", ' Age', ' Height', ' Score')\n",
    "\n",
    "for a in range(9):\n",
    "    print(girl_names[a],'',girl_ages[a],' ',girls_height[a],' ',girls_score[a])\n",
    "\n",
    "\n",
    "for d in range(9):\n",
    "    print(boy_names[d],'', boy_ages[d],'', boy_heights[d],'', boy_scores[d])"
   ]
  },
  {
   "cell_type": "code",
   "execution_count": 1,
   "metadata": {},
   "outputs": [
    {
     "name": "stdout",
     "output_type": "stream",
     "text": [
      "Welcome to the CSC staff project\n",
      "Your average tax revenue is  N1,500,000\n",
      "Your average tax revenue is  N1,500,000\n",
      "Your average tax revenue is N5,600,000\n",
      "Your average tax revenue is N5,600,000\n"
     ]
    }
   ],
   "source": [
    "\n",
    "print(\"Welcome to the CSC staff project\")\n",
    "for i in range(2501):\n",
    "    intro = input('Please input your name: ')\n",
    "    age = int(input('Please enter your age: '))\n",
    "    exp = int(input('How many years of experience do you have?: '))\n",
    "    if exp > 25 and age >= 55:\n",
    "          print(\"Your average tax revenue is N5,600,000\")\n",
    "    elif exp > 20 and age >= 45:\n",
    "        print(\"Your average tax revenue is  N4,800,000\")\n",
    "    elif exp > 10 and age >= 35:\n",
    "         print(\"Your average tax revenue is  N1,500,000\")\n",
    "    else:\n",
    "         print(\"Your average tax revenue is  N550,000\")    \n",
    "   \n",
    "\n",
    "\n",
    "\n",
    "\n"
   ]
  }
 ],
 "metadata": {
  "kernelspec": {
   "display_name": "base",
   "language": "python",
   "name": "python3"
  },
  "language_info": {
   "codemirror_mode": {
    "name": "ipython",
    "version": 3
   },
   "file_extension": ".py",
   "mimetype": "text/x-python",
   "name": "python",
   "nbconvert_exporter": "python",
   "pygments_lexer": "ipython3",
   "version": "3.10.9"
  },
  "orig_nbformat": 4,
  "vscode": {
   "interpreter": {
    "hash": "3c06e3e46abf38078fe4dac36a0085ec2b134ebbd73dd076183d243eeca6918f"
   }
  }
 },
 "nbformat": 4,
 "nbformat_minor": 2
}
