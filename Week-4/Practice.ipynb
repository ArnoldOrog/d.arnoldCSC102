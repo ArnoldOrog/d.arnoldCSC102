{
 "cells": [
  {
   "cell_type": "code",
   "execution_count": 2,
   "metadata": {},
   "outputs": [
    {
     "name": "stdout",
     "output_type": "stream",
     "text": [
      "The name of the city 1 after swapping is:andre \n",
      "The name of the city 2 after swapping is: arnold\n"
     ]
    }
   ],
   "source": [
    "#Python program to swap two cities\n",
    "\n",
    "#To take inputs from user\n",
    "city_1 = input('Enter name of City 1: ')\n",
    "city_2 = input('Enter name of City 2: ')\n",
    "\n",
    "#Create a tempoary variable and swap the cities\n",
    "temp = city_1\n",
    "city_1 = city_2\n",
    "city_2 = temp\n",
    "\n",
    "print(f'The name of the city 1 after swapping is:{city_1} ')\n",
    "print(f'The name of the city 2 after swapping is: {city_2}')"
   ]
  },
  {
   "cell_type": "code",
   "execution_count": 11,
   "metadata": {},
   "outputs": [
    {
     "name": "stdout",
     "output_type": "stream",
     "text": [
      "Negative\n"
     ]
    }
   ],
   "source": [
    "# Program to check if number is positive, negative or zero\n",
    "\n",
    "num = float(input(\"enter a number: \"))\n",
    "if num > 0:\n",
    "   print(\"Positve\")\n",
    "elif num == 0: \n",
    "     print(\"Zero\")\n",
    "else:\n",
    "    print(\"Negative\")\n"
   ]
  },
  {
   "cell_type": "code",
   "execution_count": 13,
   "metadata": {},
   "outputs": [
    {
     "name": "stdout",
     "output_type": "stream",
     "text": [
      "Welcome  to the  COUP DE ECRIVA 2023: FOOTBALL PICKS \n",
      "\n",
      "Madiba:   Chubby Obiora Okafo\n",
      "Blue-Jays:  Christopher Umeh\n",
      "Cirok:  Alexander\n",
      "TSG Walkers:  Ikechuwku\n",
      "\n",
      "\n",
      "Madiba:  Chubby Obiora Okafo\n",
      "Blue-Jays:  Oladimeji Abaniwondea/Jeffery Awagu\n",
      "Cirok:  Timileyin Pearse/Izuako Jeremy\n",
      "TSG Walkers:  Ayomide Ojituku\n"
     ]
    }
   ],
   "source": [
    "#COUP DE ESCRIVA 2023: FOOTBALL PICKS\n",
    "\n",
    "print(\"Welcome  to the  COUP DE ECRIVA 2023: FOOTBALL PICKS \\n\")\n",
    "\n",
    "captain = {'Madiba: ':' Chubby Obiora Okafo','Blue-Jays: ': 'Christopher Umeh','Cirok: ': 'Alexander', \n",
    "'TSG Walkers: ': 'Ikechuwku'}\n",
    " \n",
    "goalkeepers = {'Madiba: ': 'Chubby Obiora Okafo', \n",
    "                'Blue-Jays: ': 'Oladimeji Abaniwondea/Jeffery Awagu',\n",
    "                'Cirok: ' : 'Timileyin Pearse/Izuako Jeremy' ,\n",
    "                'TSG Walkers: ' : 'Ayomide Ojituku' }\n",
    "\n",
    "for pick in captain:\n",
    "    print(pick, captain[pick])\n",
    "\n",
    "print('\\n')\n",
    "\n",
    "for pick in goalkeepers:\n",
    "    print(pick, goalkeepers[pick])"
   ]
  }
 ],
 "metadata": {
  "kernelspec": {
   "display_name": "base",
   "language": "python",
   "name": "python3"
  },
  "language_info": {
   "codemirror_mode": {
    "name": "ipython",
    "version": 3
   },
   "file_extension": ".py",
   "mimetype": "text/x-python",
   "name": "python",
   "nbconvert_exporter": "python",
   "pygments_lexer": "ipython3",
   "version": "3.10.9"
  },
  "orig_nbformat": 4,
  "vscode": {
   "interpreter": {
    "hash": "3c06e3e46abf38078fe4dac36a0085ec2b134ebbd73dd076183d243eeca6918f"
   }
  }
 },
 "nbformat": 4,
 "nbformat_minor": 2
}
