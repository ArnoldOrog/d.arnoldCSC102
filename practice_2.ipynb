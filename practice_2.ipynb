{
 "cells": [
  {
   "cell_type": "code",
   "execution_count": 2,
   "metadata": {},
   "outputs": [
    {
     "name": "stdout",
     "output_type": "stream",
     "text": [
      "Hi my name is Matthew, and I am a string\n",
      "<class 'str'>\n",
      "Hi my name is Precious, and I am also a string\n",
      "<class 'str'>\n"
     ]
    }
   ],
   "source": [
    "# python program to print strings and type\n",
    "str1 = \"Hi my name is Matthew, and I am a string\";\n",
    "str2 = 'Hi my name is Precious, and I am also a string';\n",
    "\n",
    "#displaying string str1 and its type\n",
    "print(str1);\n",
    "print(type(str1));\n",
    "\n",
    "#Displaying string str2 and its type\n",
    "print(str2);\n",
    "print(type(str2));"
   ]
  },
  {
   "cell_type": "code",
   "execution_count": null,
   "metadata": {},
   "outputs": [],
   "source": []
  }
 ],
 "metadata": {
  "kernelspec": {
   "display_name": "base",
   "language": "python",
   "name": "python3"
  },
  "language_info": {
   "codemirror_mode": {
    "name": "ipython",
    "version": 3
   },
   "file_extension": ".py",
   "mimetype": "text/x-python",
   "name": "python",
   "nbconvert_exporter": "python",
   "pygments_lexer": "ipython3",
   "version": "3.10.9"
  },
  "orig_nbformat": 4,
  "vscode": {
   "interpreter": {
    "hash": "3c06e3e46abf38078fe4dac36a0085ec2b134ebbd73dd076183d243eeca6918f"
   }
  }
 },
 "nbformat": 4,
 "nbformat_minor": 2
}
