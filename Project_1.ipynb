{
 "cells": [
  {
   "cell_type": "code",
   "execution_count": 4,
   "metadata": {},
   "outputs": [
    {
     "name": "stdout",
     "output_type": "stream",
     "text": [
      "The answer is  1.01\n"
     ]
    }
   ],
   "source": [
    "# Simple Intrest\n",
    "r = 1\n",
    "t = 1\n",
    "p = 1\n",
    "first = r/100\n",
    "second = t * first\n",
    "third = 1 + second\n",
    "a = p * third\n",
    "print(\"The answer is \", (a)); \n",
    "\n",
    "\n"
   ]
  },
  {
   "cell_type": "code",
   "execution_count": 8,
   "metadata": {},
   "outputs": [
    {
     "ename": "TypeError",
     "evalue": "unsupported operand type(s) for ^: 'float' and 'float'",
     "output_type": "error",
     "traceback": [
      "\u001b[1;31m---------------------------------------------------------------------------\u001b[0m",
      "\u001b[1;31mTypeError\u001b[0m                                 Traceback (most recent call last)",
      "Cell \u001b[1;32mIn[8], line 9\u001b[0m\n\u001b[0;32m      7\u001b[0m second \u001b[39m=\u001b[39m first \u001b[39m+\u001b[39m \u001b[39m1\u001b[39m\n\u001b[0;32m      8\u001b[0m Third \u001b[39m=\u001b[39m n\u001b[39m/\u001b[39mt\n\u001b[1;32m----> 9\u001b[0m third \u001b[39m=\u001b[39m (second) \u001b[39m^\u001b[39;49m (third)\n\u001b[0;32m     10\u001b[0m a \u001b[39m=\u001b[39m third \u001b[39m*\u001b[39m p\n\u001b[0;32m     11\u001b[0m \u001b[39mprint\u001b[39m (\u001b[39m\"\u001b[39m\u001b[39mThe answer is \u001b[39m\u001b[39m\"\u001b[39m, (a))\n",
      "\u001b[1;31mTypeError\u001b[0m: unsupported operand type(s) for ^: 'float' and 'float'"
     ]
    }
   ],
   "source": [
    "# Compound Intrest\n",
    "r = 1\n",
    "n = 2\n",
    "t = 1\n",
    "p = 2\n",
    "first = r/n \n",
    "second = first + 1\n",
    "Third = n/t\n",
    "third = (second) ^ (third)\n",
    "a = third * p\n",
    "print (\"The answer is \", (a));\n"
   ]
  },
  {
   "cell_type": "code",
   "execution_count": null,
   "metadata": {},
   "outputs": [],
   "source": []
  }
 ],
 "metadata": {
  "kernelspec": {
   "display_name": "base",
   "language": "python",
   "name": "python3"
  },
  "language_info": {
   "codemirror_mode": {
    "name": "ipython",
    "version": 3
   },
   "file_extension": ".py",
   "mimetype": "text/x-python",
   "name": "python",
   "nbconvert_exporter": "python",
   "pygments_lexer": "ipython3",
   "version": "3.10.9"
  },
  "orig_nbformat": 4,
  "vscode": {
   "interpreter": {
    "hash": "3c06e3e46abf38078fe4dac36a0085ec2b134ebbd73dd076183d243eeca6918f"
   }
  }
 },
 "nbformat": 4,
 "nbformat_minor": 2
}
